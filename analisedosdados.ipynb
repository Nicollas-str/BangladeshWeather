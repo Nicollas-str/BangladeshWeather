{
 "cells": [
  {
   "cell_type": "code",
   "execution_count": 1,
   "metadata": {},
   "outputs": [],
   "source": [
    "import pandas as pd\n",
    "from sklearn.metrics import accuracy_score\n",
    "from sklearn.linear_model import LogisticRegression\n",
    "import matplotlib.pyplot as plt"
   ]
  },
  {
   "cell_type": "markdown",
   "metadata": {},
   "source": [
    "Começando com a coleta de dados"
   ]
  },
  {
   "cell_type": "code",
   "execution_count": 2,
   "metadata": {},
   "outputs": [
    {
     "name": "stdout",
     "output_type": "stream",
     "text": [
      "       Data  Temp9am  Temp3pm  TempMin  TempMax  Chuva ChuvaHoje  Evaporação  \\\n",
      "0  01-02-13     20.7     20.9     19.5     22.4   15.6       Yes         6.2   \n",
      "1  02-02-13     22.4     24.8     19.5     25.6    6.0       Yes         3.4   \n",
      "2  03-02-13     23.5     23.0     21.6     24.5    6.6       Yes         2.4   \n",
      "3  04-02-13     21.4     20.9     20.2     22.8   18.8       Yes         2.2   \n",
      "4  05-02-13     22.5     25.5     19.7     25.7   77.4       Yes         4.8   \n",
      "\n",
      "   LuzDoSol DirRajVen  ...  VentDir9am VentDir3pm VelVent9am  VelVent3pm  \\\n",
      "0       0.0         W  ...           S        SSW         17          20   \n",
      "1       2.7         W  ...           W          E          9          13   \n",
      "2       0.1         W  ...         ESE        ESE         17           2   \n",
      "3       0.0         W  ...         NNE          E         22          20   \n",
      "4       0.0         W  ...         NNE          W         11           6   \n",
      "\n",
      "   Umidade9am  Umidade3pm  Pressão9am  Pressão3pm  Nuvem9am  Nuvem3pm  \n",
      "0          92          84      1017.6      1017.4         8         8  \n",
      "1          83          73      1017.9      1016.4         7         7  \n",
      "2          88          86      1016.7      1015.6         7         8  \n",
      "3          83          90      1014.2      1011.8         8         8  \n",
      "4          88          74      1008.3      1004.8         8         8  \n",
      "\n",
      "[5 rows x 21 columns]\n"
     ]
    }
   ],
   "source": [
    "data = pd.read_csv(\"Weather_Data.csv\")\n",
    "\n",
    "print(data.head())"
   ]
  },
  {
   "cell_type": "code",
   "execution_count": 3,
   "metadata": {},
   "outputs": [
    {
     "name": "stdout",
     "output_type": "stream",
     "text": [
      "<class 'pandas.core.frame.DataFrame'>\n",
      "RangeIndex: 3271 entries, 0 to 3270\n",
      "Data columns (total 21 columns):\n",
      " #   Column      Non-Null Count  Dtype  \n",
      "---  ------      --------------  -----  \n",
      " 0   Data        3271 non-null   object \n",
      " 1   Temp9am     3271 non-null   float64\n",
      " 2   Temp3pm     3271 non-null   float64\n",
      " 3   TempMin     3271 non-null   float64\n",
      " 4   TempMax     3271 non-null   float64\n",
      " 5   Chuva       3271 non-null   float64\n",
      " 6   ChuvaHoje   3271 non-null   object \n",
      " 7   Evaporação  3271 non-null   float64\n",
      " 8   LuzDoSol    3271 non-null   float64\n",
      " 9   DirRajVen   3271 non-null   object \n",
      " 10  VelRajVen   3271 non-null   int64  \n",
      " 11  VentDir9am  3271 non-null   object \n",
      " 12  VentDir3pm  3271 non-null   object \n",
      " 13  VelVent9am  3271 non-null   int64  \n",
      " 14  VelVent3pm  3271 non-null   int64  \n",
      " 15  Umidade9am  3271 non-null   int64  \n",
      " 16  Umidade3pm  3271 non-null   int64  \n",
      " 17  Pressão9am  3271 non-null   float64\n",
      " 18  Pressão3pm  3271 non-null   float64\n",
      " 19  Nuvem9am    3271 non-null   int64  \n",
      " 20  Nuvem3pm    3271 non-null   int64  \n",
      "dtypes: float64(9), int64(7), object(5)\n",
      "memory usage: 536.8+ KB\n"
     ]
    }
   ],
   "source": [
    "data.info()"
   ]
  },
  {
   "cell_type": "markdown",
   "metadata": {},
   "source": [
    "Pré-processamento dos dados"
   ]
  },
  {
   "cell_type": "code",
   "execution_count": 4,
   "metadata": {},
   "outputs": [],
   "source": [
    "# Normaliza os dados numéricos\n",
    "for coluna in data.columns:\n",
    "    # Verifica se a coluna é numérica\n",
    "    if data[coluna].dtype.name in [\"float64\", \"int64\"]:\n",
    "        # Normaliza a coluna\n",
    "        data[coluna] = data[coluna] / data[coluna].max()"
   ]
  },
  {
   "cell_type": "code",
   "execution_count": 5,
   "metadata": {},
   "outputs": [],
   "source": [
    "for column in data.columns:\n",
    "    if data[column].dtype.name == \"object\":\n",
    "        data[column] = data[column].astype(\"category\")\n",
    "        data[column] = data[column].cat.codes"
   ]
  },
  {
   "cell_type": "code",
   "execution_count": 6,
   "metadata": {},
   "outputs": [
    {
     "data": {
      "text/html": [
       "<div>\n",
       "<style scoped>\n",
       "    .dataframe tbody tr th:only-of-type {\n",
       "        vertical-align: middle;\n",
       "    }\n",
       "\n",
       "    .dataframe tbody tr th {\n",
       "        vertical-align: top;\n",
       "    }\n",
       "\n",
       "    .dataframe thead th {\n",
       "        text-align: right;\n",
       "    }\n",
       "</style>\n",
       "<table border=\"1\" class=\"dataframe\">\n",
       "  <thead>\n",
       "    <tr style=\"text-align: right;\">\n",
       "      <th></th>\n",
       "      <th>Data</th>\n",
       "      <th>Temp9am</th>\n",
       "      <th>Temp3pm</th>\n",
       "      <th>TempMin</th>\n",
       "      <th>TempMax</th>\n",
       "      <th>Chuva</th>\n",
       "      <th>ChuvaHoje</th>\n",
       "      <th>Evaporação</th>\n",
       "      <th>LuzDoSol</th>\n",
       "      <th>DirRajVen</th>\n",
       "      <th>...</th>\n",
       "      <th>VentDir9am</th>\n",
       "      <th>VentDir3pm</th>\n",
       "      <th>VelVent9am</th>\n",
       "      <th>VelVent3pm</th>\n",
       "      <th>Umidade9am</th>\n",
       "      <th>Umidade3pm</th>\n",
       "      <th>Pressão9am</th>\n",
       "      <th>Pressão3pm</th>\n",
       "      <th>Nuvem9am</th>\n",
       "      <th>Nuvem3pm</th>\n",
       "    </tr>\n",
       "  </thead>\n",
       "  <tbody>\n",
       "    <tr>\n",
       "      <th>0</th>\n",
       "      <td>9</td>\n",
       "      <td>0.567123</td>\n",
       "      <td>0.467562</td>\n",
       "      <td>0.706522</td>\n",
       "      <td>0.489083</td>\n",
       "      <td>0.130653</td>\n",
       "      <td>1</td>\n",
       "      <td>0.336957</td>\n",
       "      <td>0.000000</td>\n",
       "      <td>13</td>\n",
       "      <td>...</td>\n",
       "      <td>8</td>\n",
       "      <td>11</td>\n",
       "      <td>0.314815</td>\n",
       "      <td>0.350877</td>\n",
       "      <td>0.92</td>\n",
       "      <td>0.848485</td>\n",
       "      <td>0.979403</td>\n",
       "      <td>0.981383</td>\n",
       "      <td>0.888889</td>\n",
       "      <td>1.000</td>\n",
       "    </tr>\n",
       "    <tr>\n",
       "      <th>1</th>\n",
       "      <td>117</td>\n",
       "      <td>0.613699</td>\n",
       "      <td>0.554810</td>\n",
       "      <td>0.706522</td>\n",
       "      <td>0.558952</td>\n",
       "      <td>0.050251</td>\n",
       "      <td>1</td>\n",
       "      <td>0.184783</td>\n",
       "      <td>0.198529</td>\n",
       "      <td>13</td>\n",
       "      <td>...</td>\n",
       "      <td>13</td>\n",
       "      <td>0</td>\n",
       "      <td>0.166667</td>\n",
       "      <td>0.228070</td>\n",
       "      <td>0.83</td>\n",
       "      <td>0.737374</td>\n",
       "      <td>0.979692</td>\n",
       "      <td>0.980419</td>\n",
       "      <td>0.777778</td>\n",
       "      <td>0.875</td>\n",
       "    </tr>\n",
       "    <tr>\n",
       "      <th>2</th>\n",
       "      <td>225</td>\n",
       "      <td>0.643836</td>\n",
       "      <td>0.514541</td>\n",
       "      <td>0.782609</td>\n",
       "      <td>0.534934</td>\n",
       "      <td>0.055276</td>\n",
       "      <td>1</td>\n",
       "      <td>0.130435</td>\n",
       "      <td>0.007353</td>\n",
       "      <td>13</td>\n",
       "      <td>...</td>\n",
       "      <td>2</td>\n",
       "      <td>2</td>\n",
       "      <td>0.314815</td>\n",
       "      <td>0.035088</td>\n",
       "      <td>0.88</td>\n",
       "      <td>0.868687</td>\n",
       "      <td>0.978537</td>\n",
       "      <td>0.979647</td>\n",
       "      <td>0.777778</td>\n",
       "      <td>1.000</td>\n",
       "    </tr>\n",
       "    <tr>\n",
       "      <th>3</th>\n",
       "      <td>333</td>\n",
       "      <td>0.586301</td>\n",
       "      <td>0.467562</td>\n",
       "      <td>0.731884</td>\n",
       "      <td>0.497817</td>\n",
       "      <td>0.157454</td>\n",
       "      <td>1</td>\n",
       "      <td>0.119565</td>\n",
       "      <td>0.000000</td>\n",
       "      <td>13</td>\n",
       "      <td>...</td>\n",
       "      <td>5</td>\n",
       "      <td>0</td>\n",
       "      <td>0.407407</td>\n",
       "      <td>0.350877</td>\n",
       "      <td>0.83</td>\n",
       "      <td>0.909091</td>\n",
       "      <td>0.976131</td>\n",
       "      <td>0.975981</td>\n",
       "      <td>0.888889</td>\n",
       "      <td>1.000</td>\n",
       "    </tr>\n",
       "    <tr>\n",
       "      <th>4</th>\n",
       "      <td>441</td>\n",
       "      <td>0.616438</td>\n",
       "      <td>0.570470</td>\n",
       "      <td>0.713768</td>\n",
       "      <td>0.561135</td>\n",
       "      <td>0.648241</td>\n",
       "      <td>1</td>\n",
       "      <td>0.260870</td>\n",
       "      <td>0.000000</td>\n",
       "      <td>13</td>\n",
       "      <td>...</td>\n",
       "      <td>5</td>\n",
       "      <td>13</td>\n",
       "      <td>0.203704</td>\n",
       "      <td>0.105263</td>\n",
       "      <td>0.88</td>\n",
       "      <td>0.747475</td>\n",
       "      <td>0.970452</td>\n",
       "      <td>0.969229</td>\n",
       "      <td>0.888889</td>\n",
       "      <td>1.000</td>\n",
       "    </tr>\n",
       "  </tbody>\n",
       "</table>\n",
       "<p>5 rows × 21 columns</p>\n",
       "</div>"
      ],
      "text/plain": [
       "   Data   Temp9am   Temp3pm   TempMin   TempMax     Chuva  ChuvaHoje  \\\n",
       "0     9  0.567123  0.467562  0.706522  0.489083  0.130653          1   \n",
       "1   117  0.613699  0.554810  0.706522  0.558952  0.050251          1   \n",
       "2   225  0.643836  0.514541  0.782609  0.534934  0.055276          1   \n",
       "3   333  0.586301  0.467562  0.731884  0.497817  0.157454          1   \n",
       "4   441  0.616438  0.570470  0.713768  0.561135  0.648241          1   \n",
       "\n",
       "   Evaporação  LuzDoSol  DirRajVen  ...  VentDir9am  VentDir3pm  VelVent9am  \\\n",
       "0    0.336957  0.000000         13  ...           8          11    0.314815   \n",
       "1    0.184783  0.198529         13  ...          13           0    0.166667   \n",
       "2    0.130435  0.007353         13  ...           2           2    0.314815   \n",
       "3    0.119565  0.000000         13  ...           5           0    0.407407   \n",
       "4    0.260870  0.000000         13  ...           5          13    0.203704   \n",
       "\n",
       "   VelVent3pm  Umidade9am  Umidade3pm  Pressão9am  Pressão3pm  Nuvem9am  \\\n",
       "0    0.350877        0.92    0.848485    0.979403    0.981383  0.888889   \n",
       "1    0.228070        0.83    0.737374    0.979692    0.980419  0.777778   \n",
       "2    0.035088        0.88    0.868687    0.978537    0.979647  0.777778   \n",
       "3    0.350877        0.83    0.909091    0.976131    0.975981  0.888889   \n",
       "4    0.105263        0.88    0.747475    0.970452    0.969229  0.888889   \n",
       "\n",
       "   Nuvem3pm  \n",
       "0     1.000  \n",
       "1     0.875  \n",
       "2     1.000  \n",
       "3     1.000  \n",
       "4     1.000  \n",
       "\n",
       "[5 rows x 21 columns]"
      ]
     },
     "execution_count": 6,
     "metadata": {},
     "output_type": "execute_result"
    }
   ],
   "source": [
    "data.head()"
   ]
  },
  {
   "cell_type": "markdown",
   "metadata": {},
   "source": [
    "Modelagem"
   ]
  },
  {
   "cell_type": "code",
   "execution_count": 7,
   "metadata": {},
   "outputs": [
    {
     "name": "stderr",
     "output_type": "stream",
     "text": [
      "c:\\Users\\nicol\\AppData\\Local\\Programs\\Python\\Python311\\Lib\\site-packages\\sklearn\\linear_model\\_logistic.py:460: ConvergenceWarning: lbfgs failed to converge (status=1):\n",
      "STOP: TOTAL NO. of ITERATIONS REACHED LIMIT.\n",
      "\n",
      "Increase the number of iterations (max_iter) or scale the data as shown in:\n",
      "    https://scikit-learn.org/stable/modules/preprocessing.html\n",
      "Please also refer to the documentation for alternative solver options:\n",
      "    https://scikit-learn.org/stable/modules/linear_model.html#logistic-regression\n",
      "  n_iter_i = _check_optimize_result(\n"
     ]
    },
    {
     "data": {
      "text/html": [
       "<style>#sk-container-id-1 {color: black;}#sk-container-id-1 pre{padding: 0;}#sk-container-id-1 div.sk-toggleable {background-color: white;}#sk-container-id-1 label.sk-toggleable__label {cursor: pointer;display: block;width: 100%;margin-bottom: 0;padding: 0.3em;box-sizing: border-box;text-align: center;}#sk-container-id-1 label.sk-toggleable__label-arrow:before {content: \"▸\";float: left;margin-right: 0.25em;color: #696969;}#sk-container-id-1 label.sk-toggleable__label-arrow:hover:before {color: black;}#sk-container-id-1 div.sk-estimator:hover label.sk-toggleable__label-arrow:before {color: black;}#sk-container-id-1 div.sk-toggleable__content {max-height: 0;max-width: 0;overflow: hidden;text-align: left;background-color: #f0f8ff;}#sk-container-id-1 div.sk-toggleable__content pre {margin: 0.2em;color: black;border-radius: 0.25em;background-color: #f0f8ff;}#sk-container-id-1 input.sk-toggleable__control:checked~div.sk-toggleable__content {max-height: 200px;max-width: 100%;overflow: auto;}#sk-container-id-1 input.sk-toggleable__control:checked~label.sk-toggleable__label-arrow:before {content: \"▾\";}#sk-container-id-1 div.sk-estimator input.sk-toggleable__control:checked~label.sk-toggleable__label {background-color: #d4ebff;}#sk-container-id-1 div.sk-label input.sk-toggleable__control:checked~label.sk-toggleable__label {background-color: #d4ebff;}#sk-container-id-1 input.sk-hidden--visually {border: 0;clip: rect(1px 1px 1px 1px);clip: rect(1px, 1px, 1px, 1px);height: 1px;margin: -1px;overflow: hidden;padding: 0;position: absolute;width: 1px;}#sk-container-id-1 div.sk-estimator {font-family: monospace;background-color: #f0f8ff;border: 1px dotted black;border-radius: 0.25em;box-sizing: border-box;margin-bottom: 0.5em;}#sk-container-id-1 div.sk-estimator:hover {background-color: #d4ebff;}#sk-container-id-1 div.sk-parallel-item::after {content: \"\";width: 100%;border-bottom: 1px solid gray;flex-grow: 1;}#sk-container-id-1 div.sk-label:hover label.sk-toggleable__label {background-color: #d4ebff;}#sk-container-id-1 div.sk-serial::before {content: \"\";position: absolute;border-left: 1px solid gray;box-sizing: border-box;top: 0;bottom: 0;left: 50%;z-index: 0;}#sk-container-id-1 div.sk-serial {display: flex;flex-direction: column;align-items: center;background-color: white;padding-right: 0.2em;padding-left: 0.2em;position: relative;}#sk-container-id-1 div.sk-item {position: relative;z-index: 1;}#sk-container-id-1 div.sk-parallel {display: flex;align-items: stretch;justify-content: center;background-color: white;position: relative;}#sk-container-id-1 div.sk-item::before, #sk-container-id-1 div.sk-parallel-item::before {content: \"\";position: absolute;border-left: 1px solid gray;box-sizing: border-box;top: 0;bottom: 0;left: 50%;z-index: -1;}#sk-container-id-1 div.sk-parallel-item {display: flex;flex-direction: column;z-index: 1;position: relative;background-color: white;}#sk-container-id-1 div.sk-parallel-item:first-child::after {align-self: flex-end;width: 50%;}#sk-container-id-1 div.sk-parallel-item:last-child::after {align-self: flex-start;width: 50%;}#sk-container-id-1 div.sk-parallel-item:only-child::after {width: 0;}#sk-container-id-1 div.sk-dashed-wrapped {border: 1px dashed gray;margin: 0 0.4em 0.5em 0.4em;box-sizing: border-box;padding-bottom: 0.4em;background-color: white;}#sk-container-id-1 div.sk-label label {font-family: monospace;font-weight: bold;display: inline-block;line-height: 1.2em;}#sk-container-id-1 div.sk-label-container {text-align: center;}#sk-container-id-1 div.sk-container {/* jupyter's `normalize.less` sets `[hidden] { display: none; }` but bootstrap.min.css set `[hidden] { display: none !important; }` so we also need the `!important` here to be able to override the default hidden behavior on the sphinx rendered scikit-learn.org. See: https://github.com/scikit-learn/scikit-learn/issues/21755 */display: inline-block !important;position: relative;}#sk-container-id-1 div.sk-text-repr-fallback {display: none;}</style><div id=\"sk-container-id-1\" class=\"sk-top-container\"><div class=\"sk-text-repr-fallback\"><pre>LogisticRegression()</pre><b>In a Jupyter environment, please rerun this cell to show the HTML representation or trust the notebook. <br />On GitHub, the HTML representation is unable to render, please try loading this page with nbviewer.org.</b></div><div class=\"sk-container\" hidden><div class=\"sk-item\"><div class=\"sk-estimator sk-toggleable\"><input class=\"sk-toggleable__control sk-hidden--visually\" id=\"sk-estimator-id-1\" type=\"checkbox\" checked><label for=\"sk-estimator-id-1\" class=\"sk-toggleable__label sk-toggleable__label-arrow\">LogisticRegression</label><div class=\"sk-toggleable__content\"><pre>LogisticRegression()</pre></div></div></div></div></div>"
      ],
      "text/plain": [
       "LogisticRegression()"
      ]
     },
     "execution_count": 7,
     "metadata": {},
     "output_type": "execute_result"
    }
   ],
   "source": [
    "# Create the model\n",
    "model = LogisticRegression()\n",
    "\n",
    "# Train the model\n",
    "model.fit(data.drop(columns=[\"ChuvaHoje\"]), data[\"ChuvaHoje\"])"
   ]
  },
  {
   "cell_type": "markdown",
   "metadata": {},
   "source": [
    "Avaliação"
   ]
  },
  {
   "cell_type": "code",
   "execution_count": 8,
   "metadata": {},
   "outputs": [
    {
     "name": "stdout",
     "output_type": "stream",
     "text": [
      "0.8110669520024457\n"
     ]
    }
   ],
   "source": [
    "# Make predictions\n",
    "predictions = model.predict(data.drop(columns=[\"ChuvaHoje\"]))\n",
    "\n",
    "# Calculate the accuracy\n",
    "accuracy = accuracy_score(data[\"ChuvaHoje\"], predictions)\n",
    "\n",
    "# Print the accuracy\n",
    "print(accuracy)"
   ]
  },
  {
   "cell_type": "markdown",
   "metadata": {},
   "source": [
    "Visualização dos dados"
   ]
  },
  {
   "cell_type": "code",
   "execution_count": 9,
   "metadata": {},
   "outputs": [
    {
     "data": {
      "image/png": "[encoded data removed]",
      "text/plain": [
       "<Figure size 640x480 with 1 Axes>"
      ]
     },
     "metadata": {},
     "output_type": "display_data"
    }
   ],
   "source": [
    "# Create a plot\n",
    "plt.plot(data[\"Data\"], accuracy.repeat(3271), marker=\".\", label=\"Acurácia\")\n",
    "\n",
    "# Add a title\n",
    "plt.title(\"Acurácia do modelo\")\n",
    "\n",
    "# Add labels to the axes\n",
    "plt.xlabel(\"Dia\")\n",
    "plt.ylabel(\"Acurácia\")\n",
    "\n",
    "# Add a legend\n",
    "plt.legend()\n",
    "\n",
    "# Show the plot\n",
    "plt.show()"
   ]
  }
 ],
 "metadata": {
  "kernelspec": {
   "display_name": "Python 3",
   "language": "python",
   "name": "python3"
  },
  "language_info": {
   "codemirror_mode": {
    "name": "ipython",
    "version": 3
   },
   "file_extension": ".py",
   "mimetype": "text/x-python",
   "name": "python",
   "nbconvert_exporter": "python",
   "pygments_lexer": "ipython3",
   "version": "3.11.0"
  }
 },
 "nbformat": 4,
 "nbformat_minor": 2
}
