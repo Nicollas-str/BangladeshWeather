{
 "cells": [
  {
   "cell_type": "code",
   "execution_count": null,
   "metadata": {},
   "outputs": [],
   "source": [
    "#Importa os pacotes que vão ser usados no projeto\n",
    "import pandas as pd\n",
    "from sklearn.metrics import accuracy_score\n",
    "from sklearn.linear_model import LogisticRegression\n",
    "import matplotlib.pyplot as plt"
   ]
  },
  {
   "cell_type": "markdown",
   "metadata": {},
   "source": [
    "Começando com a coleta de dados"
   ]
  },
  {
   "cell_type": "code",
   "execution_count": null,
   "metadata": {},
   "outputs": [],
   "source": [
    "#Lendo o arquivo .csv\n",
    "data = pd.read_csv(\"Weather_Data.csv\")\n",
    "\n",
    "#Imprime as 5 primeiras linhas pra uma breve análise\n",
    "print(data.head())"
   ]
  },
  {
   "cell_type": "code",
   "execution_count": null,
   "metadata": {},
   "outputs": [],
   "source": [
    "#Imprime os tipos de dados das colunas\n",
    "data.info()"
   ]
  },
  {
   "cell_type": "markdown",
   "metadata": {},
   "source": [
    "Pré-processamento dos dados"
   ]
  },
  {
   "cell_type": "code",
   "execution_count": null,
   "metadata": {},
   "outputs": [],
   "source": [
    "# Normaliza os dados numéricos\n",
    "for coluna in data.columns:\n",
    "    # Verifica se a coluna é numérica\n",
    "    if data[coluna].dtype.name in [\"float64\", \"int64\"]:\n",
    "        # Normaliza a coluna\n",
    "        data[coluna] = data[coluna] / data[coluna].max()"
   ]
  },
  {
   "cell_type": "code",
   "execution_count": null,
   "metadata": {},
   "outputs": [],
   "source": [
    "#Codifica as colunas categoricas\n",
    "for column in data.columns:\n",
    "    #Checa se uma coluna é categorica\n",
    "    if data[column].dtype.name == \"object\":\n",
    "        #Codifica a coluna\n",
    "        data[column] = data[column].astype(\"category\")\n",
    "        data[column] = data[column].cat.codes"
   ]
  },
  {
   "cell_type": "code",
   "execution_count": null,
   "metadata": {},
   "outputs": [],
   "source": [
    "#Visualização de como os dados ficaram\n",
    "data.head()"
   ]
  },
  {
   "cell_type": "markdown",
   "metadata": {},
   "source": [
    "Modelagem"
   ]
  },
  {
   "cell_type": "code",
   "execution_count": null,
   "metadata": {},
   "outputs": [],
   "source": [
    "#Cria o modelo\n",
    "model = LogisticRegression()\n",
    "\n",
    "#Treina o modelo\n",
    "model.fit(data.drop(columns=[\"ChuvaHoje\"]), data[\"ChuvaHoje\"])"
   ]
  },
  {
   "cell_type": "markdown",
   "metadata": {},
   "source": [
    "Avaliação"
   ]
  },
  {
   "cell_type": "code",
   "execution_count": null,
   "metadata": {},
   "outputs": [],
   "source": [
    "#Faz as predições\n",
    "predictions = model.predict(data.drop(columns=[\"ChuvaHoje\"]))\n",
    "\n",
    "#Calcula a precisão dos acertos\n",
    "accuracy = accuracy_score(data[\"ChuvaHoje\"], predictions)\n",
    "\n",
    "#Imprime o valor da precisão em decimais\n",
    "print(accuracy)"
   ]
  },
  {
   "cell_type": "markdown",
   "metadata": {},
   "source": [
    "Visualização dos dados"
   ]
  },
  {
   "cell_type": "code",
   "execution_count": null,
   "metadata": {},
   "outputs": [],
   "source": [
    "#Cria a plot\n",
    "plt.plot(data[\"Data\"], accuracy.repeat(3271), marker=\".\", label=\"Acurácia\")\n",
    "\n",
    "#Adiciona um titulo\n",
    "plt.title(\"Acurácia do modelo\")\n",
    "\n",
    "#Adiciona um nome aos eixos di gráfico\n",
    "plt.xlabel(\"Dia\")\n",
    "plt.ylabel(\"Acurácia\")\n",
    "\n",
    "#Adiciona uma legenda\n",
    "plt.legend()\n",
    "\n",
    "#Mostra o gráfico\n",
    "plt.show()"
   ]
  }
 ],
 "metadata": {
  "kernelspec": {
   "display_name": "Python 3",
   "language": "python",
   "name": "python3"
  },
  "language_info": {
   "codemirror_mode": {
    "name": "ipython",
    "version": 3
   },
   "file_extension": ".py",
   "mimetype": "text/x-python",
   "name": "python",
   "nbconvert_exporter": "python",
   "pygments_lexer": "ipython3",
   "version": "3.11.0"
  }
 },
 "nbformat": 4,
 "nbformat_minor": 2
}
